{
 "cells": [
  {
   "cell_type": "code",
   "execution_count": 3,
   "metadata": {
    "execution": {
     "iopub.execute_input": "2021-11-14T08:26:21.344009Z",
     "iopub.status.busy": "2021-11-14T08:26:21.343595Z",
     "iopub.status.idle": "2021-11-14T08:26:21.359538Z",
     "shell.execute_reply": "2021-11-14T08:26:21.358146Z",
     "shell.execute_reply.started": "2021-11-14T08:26:21.343977Z"
    }
   },
   "outputs": [],
   "source": [
    "import numpy as np\n",
    "import pandas as pd\n",
    "\n",
    "\n",
    "import os\n",
    "for dirname, _, filenames in os.walk('/kaggle/input'):\n",
    "    for filename in filenames:\n",
    "        print(os.path.join(dirname, filename))\n"
   ]
  },
  {
   "cell_type": "code",
   "execution_count": 5,
   "metadata": {
    "execution": {
     "iopub.execute_input": "2021-11-14T08:26:26.381206Z",
     "iopub.status.busy": "2021-11-14T08:26:26.379942Z",
     "iopub.status.idle": "2021-11-14T08:26:26.387444Z",
     "shell.execute_reply": "2021-11-14T08:26:26.386421Z",
     "shell.execute_reply.started": "2021-11-14T08:26:26.381163Z"
    },
    "id": "TWi96z-8SyX0"
   },
   "outputs": [],
   "source": [
    "# Initialize the random number generator\n",
    "import random\n",
    "random.seed(0)\n",
    "\n",
    "# Ignore the warnings\n",
    "import warnings\n",
    "warnings.filterwarnings(\"ignore\")"
   ]
  },
  {
   "cell_type": "code",
   "execution_count": 6,
   "metadata": {
    "execution": {
     "iopub.execute_input": "2021-11-14T08:26:26.391117Z",
     "iopub.status.busy": "2021-11-14T08:26:26.390207Z",
     "iopub.status.idle": "2021-11-14T08:26:26.407954Z",
     "shell.execute_reply": "2021-11-14T08:26:26.406469Z",
     "shell.execute_reply.started": "2021-11-14T08:26:26.391075Z"
    },
    "id": "fzXrTG6fLqw4"
   },
   "outputs": [],
   "source": [
    "path_to_file = '/kaggle/input/practice/TrainData.txt'"
   ]
  },
  {
   "cell_type": "code",
   "execution_count": 7,
   "metadata": {
    "execution": {
     "iopub.execute_input": "2021-11-14T08:26:26.411049Z",
     "iopub.status.busy": "2021-11-14T08:26:26.410567Z",
     "iopub.status.idle": "2021-11-14T08:26:26.420232Z",
     "shell.execute_reply": "2021-11-14T08:26:26.419130Z",
     "shell.execute_reply.started": "2021-11-14T08:26:26.411004Z"
    },
    "id": "zI-7t7PQlZYS"
   },
   "outputs": [],
   "source": [
    "import unicodedata\n",
    "\n",
    "# Converts the unicode file to ascii\n",
    "def unicode_to_ascii(s):\n",
    "    return ''.join(c for c in unicodedata.normalize('NFD', s)\n",
    "        if unicodedata.category(c) != 'Mn')"
   ]
  },
  {
   "cell_type": "code",
   "execution_count": 8,
   "metadata": {
    "execution": {
     "iopub.execute_input": "2021-11-14T08:26:26.422459Z",
     "iopub.status.busy": "2021-11-14T08:26:26.421940Z",
     "iopub.status.idle": "2021-11-14T08:26:26.433670Z",
     "shell.execute_reply": "2021-11-14T08:26:26.432268Z",
     "shell.execute_reply.started": "2021-11-14T08:26:26.422414Z"
    },
    "id": "XhX_e_sHxymJ"
   },
   "outputs": [],
   "source": [
    "import re\n",
    "\n",
    "def preprocess_sentence(w):\n",
    "    w = unicode_to_ascii(w.lower().strip())\n",
    "    \n",
    "    # creating a space between a word and the punctuation following it\n",
    "    # eg: \"he is a boy.\" => \"he is a boy .\" \n",
    "    # Reference:- https://stackoverflow.com/questions/3645931/python-padding-punctuation-with-white-spaces-keeping-punctuation\n",
    "    w = re.sub(r\"([?.!,¿])\", r\" \\1 \", w)\n",
    "    w = re.sub(r'[\" \"]+', \" \", w)\n",
    "    \n",
    "    # replacing everything with space except (a-z, A-Z, \".\", \"?\", \"!\", \",\")\n",
    "    #w = re.sub(r\"[^a-zA-Z?.!,¿]+\", \" \", w) # COMMENT THIS LINE FOR NON-LATIN SCRIPTS SUCH AS MARATHI, HINDI ETC.\n",
    "    \n",
    "    w = w.rstrip().strip()\n",
    "    \n",
    "    # adding a start and an end token to the sentence\n",
    "    # so that the model know when to start and stop predicting.\n",
    "    w = '<start> ' + w + ' <end>'\n",
    "    return w"
   ]
  },
  {
   "cell_type": "markdown",
   "metadata": {
    "id": "jDGj9dw5l4xb"
   },
   "source": [
    "Now let's define a function to create the dataset"
   ]
  },
  {
   "cell_type": "code",
   "execution_count": 9,
   "metadata": {
    "execution": {
     "iopub.execute_input": "2021-11-14T08:26:26.437859Z",
     "iopub.status.busy": "2021-11-14T08:26:26.437586Z",
     "iopub.status.idle": "2021-11-14T08:26:26.450256Z",
     "shell.execute_reply": "2021-11-14T08:26:26.449299Z",
     "shell.execute_reply.started": "2021-11-14T08:26:26.437825Z"
    },
    "id": "_Dt0BSlUxymL"
   },
   "outputs": [],
   "source": [
    "# 1. Remove the accents\n",
    "# 2. Clean the sentences\n",
    "# 3. Return word pairs in the format: [ENGLISH, MARATHI]\n",
    "def create_dataset(path, num_examples):\n",
    "    lines = open(path, encoding='UTF-8').read().strip().split('\\n')\n",
    "    \n",
    "    word_pairs = [[preprocess_sentence(w) for w in l.split('\\t')]  for l in lines[:num_examples]]\n",
    "    \n",
    "    return word_pairs"
   ]
  },
  {
   "cell_type": "markdown",
   "metadata": {
    "id": "dkGkk9l0pgO5"
   },
   "source": [
    "Let's create data for 10 examples to visualize"
   ]
  },
  {
   "cell_type": "code",
   "execution_count": 10,
   "metadata": {
    "execution": {
     "iopub.execute_input": "2021-11-14T08:26:26.454422Z",
     "iopub.status.busy": "2021-11-14T08:26:26.453560Z",
     "iopub.status.idle": "2021-11-14T08:26:26.493163Z",
     "shell.execute_reply": "2021-11-14T08:26:26.492249Z",
     "shell.execute_reply.started": "2021-11-14T08:26:26.454376Z"
    },
    "executionInfo": {
     "elapsed": 28442,
     "status": "ok",
     "timestamp": 1581830578082,
     "user": {
      "displayName": "Suryansh Sharma",
      "photoUrl": "https://lh3.googleusercontent.com/a-/AAuE7mBy1CGO0PDyRG1nsJ6rDaUXBg-h18OkEJ86htszrw=s64",
      "userId": "03232072030227591914"
     },
     "user_tz": -330
    },
    "id": "H23qgp5ipqQ-",
    "outputId": "75296c22-4eaa-4f1c-89cb-b70b759b2cc8"
   },
   "outputs": [],
   "source": [
    "create_dataset(path_to_file, num_examples=10)"
   ]
  },
  {
   "cell_type": "markdown",
   "metadata": {
    "id": "f0R5z1m2mwJE"
   },
   "source": [
    "Define a class to create a word -> index mapping"
   ]
  },
  {
   "cell_type": "code",
   "execution_count": 11,
   "metadata": {
    "execution": {
     "iopub.execute_input": "2021-11-14T08:26:26.495827Z",
     "iopub.status.busy": "2021-11-14T08:26:26.494678Z",
     "iopub.status.idle": "2021-11-14T08:26:26.505002Z",
     "shell.execute_reply": "2021-11-14T08:26:26.503866Z",
     "shell.execute_reply.started": "2021-11-14T08:26:26.495783Z"
    },
    "id": "OPP74SBMxymN"
   },
   "outputs": [],
   "source": [
    "# This class creates a word -> index mapping (e.g,. \"dad\" -> 5) and vice-versa \n",
    "# (e.g., 5 -> \"dad\") for each language,\n",
    "class LanguageIndex():\n",
    "  def __init__(self, lang):\n",
    "    self.lang = lang\n",
    "    self.word2idx = {}\n",
    "    self.idx2word = {}\n",
    "    self.vocab = set()\n",
    "    \n",
    "    self.create_index()\n",
    "    \n",
    "  def create_index(self):\n",
    "    for phrase in self.lang:\n",
    "      self.vocab.update(phrase.split(' '))\n",
    "    \n",
    "    self.vocab = sorted(self.vocab)\n",
    "    \n",
    "    self.word2idx['<pad>'] = 0\n",
    "    for index, word in enumerate(self.vocab):\n",
    "      self.word2idx[word] = index + 1\n",
    "    \n",
    "    for word, index in self.word2idx.items():\n",
    "      self.idx2word[index] = word"
   ]
  },
  {
   "cell_type": "code",
   "execution_count": 12,
   "metadata": {
    "execution": {
     "iopub.execute_input": "2021-11-14T08:26:26.510742Z",
     "iopub.status.busy": "2021-11-14T08:26:26.510278Z",
     "iopub.status.idle": "2021-11-14T08:26:26.524358Z",
     "shell.execute_reply": "2021-11-14T08:26:26.523174Z",
     "shell.execute_reply.started": "2021-11-14T08:26:26.510686Z"
    },
    "id": "vt0IMZ_UxymS"
   },
   "outputs": [],
   "source": [
    "def max_length(tensor):\n",
    "    return max(len(t) for t in tensor)\n",
    "\n",
    "\n",
    "def load_dataset(path, num_examples):\n",
    "    # creating cleaned input, output pairs\n",
    "    pairs = create_dataset(path, num_examples)\n",
    "\n",
    "    # index language using the class defined above    \n",
    "    inp_lang = LanguageIndex(mr for en, mr in pairs)\n",
    "    targ_lang = LanguageIndex(en for en, mr in pairs)\n",
    "    \n",
    "    # Vectorize the input and target languages\n",
    "    \n",
    "    # Other language sentences\n",
    "    input_tensor = [[inp_lang.word2idx[s] for s in mr.split(' ')] for en, mr in pairs]\n",
    "    \n",
    "    # English sentences\n",
    "    target_tensor = [[targ_lang.word2idx[s] for s in en.split(' ')] for en, mr in pairs]\n",
    "    \n",
    "    # Calculate max_length of input and output tensor\n",
    "    # Here, we'll set those to the longest sentence in the dataset\n",
    "    max_length_inp, max_length_tar = max_length(input_tensor), max_length(target_tensor)\n",
    "    \n",
    "    # Padding the input and output tensor to the maximum length\n",
    "    input_tensor = tf.keras.preprocessing.sequence.pad_sequences(input_tensor, \n",
    "                                                                 maxlen=max_length_inp,\n",
    "                                                                 padding='post')\n",
    "    \n",
    "    target_tensor = tf.keras.preprocessing.sequence.pad_sequences(target_tensor, \n",
    "                                                                  maxlen=max_length_tar, \n",
    "                                                                  padding='post')\n",
    "    \n",
    "    return input_tensor, target_tensor, inp_lang, targ_lang, max_length_inp, max_length_tar"
   ]
  },
  {
   "cell_type": "code",
   "execution_count": 13,
   "metadata": {
    "execution": {
     "iopub.execute_input": "2021-11-14T08:26:26.526943Z",
     "iopub.status.busy": "2021-11-14T08:26:26.526549Z",
     "iopub.status.idle": "2021-11-14T08:26:27.937538Z",
     "shell.execute_reply": "2021-11-14T08:26:27.936434Z",
     "shell.execute_reply.started": "2021-11-14T08:26:26.526898Z"
    },
    "id": "fXnIH0SExymU"
   },
   "outputs": [],
   "source": [
    "# Try experimenting with the size of that dataset\n",
    "num_examples = 30000\n",
    "input_tensor, target_tensor, inp_lang, targ_lang, max_length_inp, max_length_targ = load_dataset(path_to_file, num_examples)"
   ]
  },
  {
   "cell_type": "code",
   "execution_count": 14,
   "metadata": {
    "execution": {
     "iopub.execute_input": "2021-11-14T08:26:27.939702Z",
     "iopub.status.busy": "2021-11-14T08:26:27.939312Z",
     "iopub.status.idle": "2021-11-14T08:26:28.796558Z",
     "shell.execute_reply": "2021-11-14T08:26:28.795191Z",
     "shell.execute_reply.started": "2021-11-14T08:26:27.939658Z"
    },
    "executionInfo": {
     "elapsed": 29767,
     "status": "ok",
     "timestamp": 1581830579480,
     "user": {
      "displayName": "Suryansh Sharma",
      "photoUrl": "https://lh3.googleusercontent.com/a-/AAuE7mBy1CGO0PDyRG1nsJ6rDaUXBg-h18OkEJ86htszrw=s64",
      "userId": "03232072030227591914"
     },
     "user_tz": -330
    },
    "id": "KWihipVfxymZ",
    "outputId": "8b9d4899-665b-425e-c110-87a4583e2f89"
   },
   "outputs": [],
   "source": [
    "from sklearn.model_selection import train_test_split\n",
    "\n",
    "# Creating training and validation sets using an 90-10 split\n",
    "input_tensor_train, input_tensor_val, target_tensor_train, target_tensor_val = train_test_split(input_tensor, target_tensor, test_size=0.1)\n",
    "\n",
    "# Show length\n",
    "len(input_tensor_train), len(target_tensor_train), len(input_tensor_val), len(target_tensor_val)"
   ]
  },
  {
   "cell_type": "code",
   "execution_count": 15,
   "metadata": {
    "execution": {
     "iopub.execute_input": "2021-11-14T08:26:28.798961Z",
     "iopub.status.busy": "2021-11-14T08:26:28.798627Z",
     "iopub.status.idle": "2021-11-14T08:26:31.682051Z",
     "shell.execute_reply": "2021-11-14T08:26:31.681001Z",
     "shell.execute_reply.started": "2021-11-14T08:26:28.798921Z"
    },
    "id": "MEpK4kKCxymb"
   },
   "outputs": [],
   "source": [
    "BUFFER_SIZE = len(input_tensor_train)\n",
    "BATCH_SIZE = 64\n",
    "N_BATCH = BUFFER_SIZE//BATCH_SIZE\n",
    "embedding_dim = 256\n",
    "units = 1024\n",
    "vocab_inp_size = len(inp_lang.word2idx)\n",
    "vocab_tar_size = len(targ_lang.word2idx)\n",
    "\n",
    "dataset = tf.data.Dataset.from_tensor_slices((input_tensor_train, target_tensor_train)).shuffle(BUFFER_SIZE)\n",
    "dataset = dataset.batch(BATCH_SIZE, drop_remainder=True)"
   ]
  },
  {
   "cell_type": "code",
   "execution_count": 16,
   "metadata": {
    "execution": {
     "iopub.execute_input": "2021-11-14T08:26:31.684403Z",
     "iopub.status.busy": "2021-11-14T08:26:31.683847Z",
     "iopub.status.idle": "2021-11-14T08:26:31.694217Z",
     "shell.execute_reply": "2021-11-14T08:26:31.693034Z",
     "shell.execute_reply.started": "2021-11-14T08:26:31.684357Z"
    },
    "id": "yfo1hnK1xymi"
   },
   "outputs": [],
   "source": [
    "class Encoder(tf.keras.Model):\n",
    "    def __init__(self, vocab_size, embedding_dim, enc_units, batch_sz):\n",
    "        super(Encoder, self).__init__()\n",
    "        self.batch_sz = batch_sz\n",
    "        self.enc_units = enc_units\n",
    "        self.embedding = tf.keras.layers.Embedding(vocab_size, embedding_dim)\n",
    "        self.gru = tf.keras.layers.GRU(self.enc_units, \n",
    "                                    return_sequences=True, \n",
    "                                    return_state=True, \n",
    "                                    recurrent_initializer='glorot_uniform')\n",
    "        \n",
    "    def call(self, x, hidden):\n",
    "        x = self.embedding(x)\n",
    "        output, state = self.gru(x, initial_state = hidden)        \n",
    "        return output, state\n",
    "    \n",
    "    def initialize_hidden_state(self):\n",
    "        return tf.zeros((self.batch_sz, self.enc_units))"
   ]
  },
  {
   "cell_type": "code",
   "execution_count": 17,
   "metadata": {
    "execution": {
     "iopub.execute_input": "2021-11-14T08:26:31.696911Z",
     "iopub.status.busy": "2021-11-14T08:26:31.696541Z",
     "iopub.status.idle": "2021-11-14T08:26:31.714175Z",
     "shell.execute_reply": "2021-11-14T08:26:31.712778Z",
     "shell.execute_reply.started": "2021-11-14T08:26:31.696871Z"
    },
    "id": "AlRHWiWoxyml"
   },
   "outputs": [],
   "source": [
    "class Decoder(tf.keras.Model):\n",
    "    def __init__(self, vocab_size, embedding_dim, dec_units, batch_sz):\n",
    "        super(Decoder, self).__init__()\n",
    "        self.batch_sz = batch_sz\n",
    "        self.dec_units = dec_units\n",
    "        self.embedding = tf.keras.layers.Embedding(vocab_size, embedding_dim)\n",
    "        self.gru = tf.keras.layers.GRU(self.dec_units, \n",
    "                                    return_sequences=True, \n",
    "                                    return_state=True, \n",
    "                                    recurrent_initializer='glorot_uniform')\n",
    "        \n",
    "        self.fc = tf.keras.layers.Dense(vocab_size)\n",
    "        \n",
    "        # used for attention\n",
    "        self.W1 = tf.keras.layers.Dense(self.dec_units)\n",
    "        self.W2 = tf.keras.layers.Dense(self.dec_units)\n",
    "        self.V = tf.keras.layers.Dense(1)\n",
    "        \n",
    "    def call(self, x, hidden, enc_output):\n",
    "        # enc_output shape == (batch_size, max_length, hidden_size)\n",
    "        \n",
    "        # hidden shape == (batch_size, hidden size)\n",
    "        # hidden_with_time_axis shape == (batch_size, 1, hidden size)\n",
    "        # we are doing this to perform addition to calculate the score\n",
    "        hidden_with_time_axis = tf.expand_dims(hidden, 1)\n",
    "        \n",
    "        # score shape == (batch_size, max_length, 1)\n",
    "        # we get 1 at the last axis because we are applying tanh(FC(EO) + FC(H)) to self.V\n",
    "        score = self.V(tf.nn.tanh(self.W1(enc_output) + self.W2(hidden_with_time_axis)))\n",
    "        \n",
    "        # attention_weights shape == (batch_size, max_length, 1)\n",
    "        attention_weights = tf.nn.softmax(score, axis=1)\n",
    "        \n",
    "        # context_vector shape after sum == (batch_size, hidden_size)\n",
    "        context_vector = attention_weights * enc_output\n",
    "        context_vector = tf.reduce_sum(context_vector, axis=1)\n",
    "        \n",
    "        # x shape after passing through embedding == (batch_size, 1, embedding_dim)\n",
    "        x = self.embedding(x)\n",
    "        \n",
    "        # x shape after concatenation == (batch_size, 1, embedding_dim + hidden_size)\n",
    "        x = tf.concat([tf.expand_dims(context_vector, 1), x], axis=-1)\n",
    "        \n",
    "        # passing the concatenated vector to the GRU\n",
    "        output, state = self.gru(x)\n",
    "        \n",
    "        # output shape == (batch_size * 1, hidden_size)\n",
    "        output = tf.reshape(output, (-1, output.shape[2]))\n",
    "        \n",
    "        # output shape == (batch_size * 1, vocab)\n",
    "        x = self.fc(output)\n",
    "        \n",
    "        return x, state, attention_weights\n",
    "        \n",
    "    def initialize_hidden_state(self):\n",
    "        return tf.zeros((self.batch_sz, self.dec_units))"
   ]
  },
  {
   "cell_type": "code",
   "execution_count": 18,
   "metadata": {
    "execution": {
     "iopub.execute_input": "2021-11-14T08:26:31.718222Z",
     "iopub.status.busy": "2021-11-14T08:26:31.717977Z",
     "iopub.status.idle": "2021-11-14T08:26:31.769204Z",
     "shell.execute_reply": "2021-11-14T08:26:31.768295Z",
     "shell.execute_reply.started": "2021-11-14T08:26:31.718193Z"
    },
    "id": "msK13dSFxymq"
   },
   "outputs": [],
   "source": [
    "encoder = Encoder(vocab_inp_size, embedding_dim, units, BATCH_SIZE)\n",
    "decoder = Decoder(vocab_tar_size, embedding_dim, units, BATCH_SIZE)"
   ]
  },
  {
   "cell_type": "code",
   "execution_count": 19,
   "metadata": {
    "execution": {
     "iopub.execute_input": "2021-11-14T08:26:31.772426Z",
     "iopub.status.busy": "2021-11-14T08:26:31.771820Z",
     "iopub.status.idle": "2021-11-14T08:26:31.779099Z",
     "shell.execute_reply": "2021-11-14T08:26:31.777979Z",
     "shell.execute_reply.started": "2021-11-14T08:26:31.772384Z"
    },
    "id": "dDcm4Mulxyms"
   },
   "outputs": [],
   "source": [
    "import numpy as np\n",
    "\n",
    "def loss_function(real, pred):\n",
    "  mask = 1 - np.equal(real, 0)\n",
    "  loss_ = tf.nn.sparse_softmax_cross_entropy_with_logits(labels=real, logits=pred) * mask\n",
    "  return tf.reduce_mean(loss_)"
   ]
  },
  {
   "cell_type": "code",
   "execution_count": 20,
   "metadata": {
    "execution": {
     "iopub.execute_input": "2021-11-14T08:26:31.781642Z",
     "iopub.status.busy": "2021-11-14T08:26:31.781143Z",
     "iopub.status.idle": "2021-11-14T08:26:31.791385Z",
     "shell.execute_reply": "2021-11-14T08:26:31.789969Z",
     "shell.execute_reply.started": "2021-11-14T08:26:31.781599Z"
    },
    "id": "Cn4cwM-wxymu"
   },
   "outputs": [],
   "source": [
    "import os\n",
    "optimizer = tf.optimizers.Adam()\n",
    "\n",
    "checkpoint_dir = './training_checkpoints'\n",
    "checkpoint_prefix = os.path.join(checkpoint_dir, \"ckpt\")\n",
    "checkpoint = tf.train.Checkpoint(optimizer=optimizer,\n",
    "                                 encoder=encoder,\n",
    "                                 decoder=decoder)"
   ]
  },
  {
   "cell_type": "code",
   "execution_count": 21,
   "metadata": {
    "execution": {
     "iopub.execute_input": "2021-11-14T08:26:31.795158Z",
     "iopub.status.busy": "2021-11-14T08:26:31.794471Z",
     "iopub.status.idle": "2021-11-14T09:52:18.693806Z",
     "shell.execute_reply": "2021-11-14T09:52:18.692776Z",
     "shell.execute_reply.started": "2021-11-14T08:26:31.795118Z"
    },
    "executionInfo": {
     "elapsed": 1005662,
     "status": "ok",
     "timestamp": 1581831555425,
     "user": {
      "displayName": "Suryansh Sharma",
      "photoUrl": "https://lh3.googleusercontent.com/a-/AAuE7mBy1CGO0PDyRG1nsJ6rDaUXBg-h18OkEJ86htszrw=s64",
      "userId": "03232072030227591914"
     },
     "user_tz": -330
    },
    "id": "sSaBu5vWxymz",
    "outputId": "0cae0b70-8ba1-4658-8e93-d02cdfd9a3dc"
   },
   "outputs": [],
   "source": [
    "import time\n",
    "\n",
    "EPOCHS = 40\n",
    "\n",
    "for epoch in range(EPOCHS):\n",
    "    start = time.time()\n",
    "    \n",
    "    hidden = encoder.initialize_hidden_state()\n",
    "    total_loss = 0\n",
    "    \n",
    "    for (batch, (inp, targ)) in enumerate(dataset):\n",
    "        loss = 0\n",
    "        \n",
    "        with tf.GradientTape() as tape:\n",
    "            enc_output, enc_hidden = encoder(inp, hidden)\n",
    "            \n",
    "            dec_hidden = enc_hidden\n",
    "            \n",
    "            dec_input = tf.expand_dims([targ_lang.word2idx['<start>']] * BATCH_SIZE, 1)       \n",
    "            \n",
    "            # Teacher forcing - feeding the target as the next input\n",
    "            for t in range(1, targ.shape[1]):\n",
    "                # passing enc_output to the decoder\n",
    "                predictions, dec_hidden, _ = decoder(dec_input, dec_hidden, enc_output)\n",
    "                \n",
    "                loss += loss_function(targ[:, t], predictions)\n",
    "                \n",
    "                # using teacher forcing\n",
    "                dec_input = tf.expand_dims(targ[:, t], 1)\n",
    "        \n",
    "        batch_loss = (loss / int(targ.shape[1]))\n",
    "        \n",
    "        total_loss += batch_loss\n",
    "        \n",
    "        variables = encoder.variables + decoder.variables\n",
    "        \n",
    "        gradients = tape.gradient(loss, variables)\n",
    "        \n",
    "        optimizer.apply_gradients(zip(gradients, variables))\n",
    "        \n",
    "        if batch % 100 == 0:\n",
    "            print('Epoch {} Batch {} Loss {:.4f}'.format(epoch + 1,\n",
    "                                                         batch,\n",
    "                                                         batch_loss.numpy()))\n",
    "    # saving (checkpoint) the model every 2 epochs\n",
    "    if (epoch + 1) % 2 == 0:\n",
    "      checkpoint.save(file_prefix = checkpoint_prefix)\n",
    "    \n",
    "    print('Epoch {} Loss {:.4f}'.format(epoch + 1,\n",
    "                                        total_loss / N_BATCH))\n",
    "    print('Time taken for 1 epoch {} sec\\n'.format(time.time() - start))"
   ]
  },
  {
   "cell_type": "code",
   "execution_count": 22,
   "metadata": {
    "execution": {
     "iopub.execute_input": "2021-11-14T09:52:18.696298Z",
     "iopub.status.busy": "2021-11-14T09:52:18.695430Z",
     "iopub.status.idle": "2021-11-14T09:52:19.154845Z",
     "shell.execute_reply": "2021-11-14T09:52:19.153740Z",
     "shell.execute_reply.started": "2021-11-14T09:52:18.696253Z"
    },
    "executionInfo": {
     "elapsed": 1006811,
     "status": "ok",
     "timestamp": 1581831556584,
     "user": {
      "displayName": "Suryansh Sharma",
      "photoUrl": "https://lh3.googleusercontent.com/a-/AAuE7mBy1CGO0PDyRG1nsJ6rDaUXBg-h18OkEJ86htszrw=s64",
      "userId": "03232072030227591914"
     },
     "user_tz": -330
    },
    "id": "8GplmQWZxym1",
    "outputId": "7f1c6458-9b90-4d65-abee-17c8ce3b5ad8"
   },
   "outputs": [],
   "source": [
    "checkpoint.save(file_prefix = checkpoint_prefix)"
   ]
  },
  {
   "cell_type": "code",
   "execution_count": 23,
   "metadata": {
    "execution": {
     "iopub.execute_input": "2021-11-14T09:52:19.156849Z",
     "iopub.status.busy": "2021-11-14T09:52:19.156244Z",
     "iopub.status.idle": "2021-11-14T09:52:19.167692Z",
     "shell.execute_reply": "2021-11-14T09:52:19.166546Z",
     "shell.execute_reply.started": "2021-11-14T09:52:19.156802Z"
    },
    "id": "n40DOnBmxym3"
   },
   "outputs": [],
   "source": [
    "def evaluate(sentence, encoder, decoder, inp_lang, targ_lang, max_length_inp, max_length_targ):\n",
    "    attention_plot = np.zeros((max_length_targ, max_length_inp))\n",
    "    \n",
    "    sentence = preprocess_sentence(sentence)\n",
    "\n",
    "    inputs = [inp_lang.word2idx[i] for i in sentence.split(' ')]\n",
    "    inputs = tf.keras.preprocessing.sequence.pad_sequences([inputs], maxlen=max_length_inp, padding='post')\n",
    "    inputs = tf.convert_to_tensor(inputs)\n",
    "    \n",
    "    result = ''\n",
    "\n",
    "    hidden = [tf.zeros((1, units))]\n",
    "    enc_out, enc_hidden = encoder(inputs, hidden)\n",
    "\n",
    "    dec_hidden = enc_hidden\n",
    "    dec_input = tf.expand_dims([targ_lang.word2idx['<start>']], 0)\n",
    "    \n",
    "\n",
    "    for t in range(max_length_targ):\n",
    "        predictions, dec_hidden, attention_weights = decoder(dec_input, dec_hidden, enc_out)\n",
    "        \n",
    "        # storing the attention weigths to plot later on\n",
    "        attention_weights = tf.reshape(attention_weights, (-1, ))\n",
    "        attention_plot[t] = attention_weights.numpy()\n",
    "\n",
    "        predicted_id = tf.argmax(predictions[0]).numpy()\n",
    "\n",
    "        result += targ_lang.idx2word[predicted_id] + ' '\n",
    "\n",
    "        if targ_lang.idx2word[predicted_id] == '<end>':\n",
    "            return result, sentence, attention_plot\n",
    "        \n",
    "        # the predicted ID is fed back into the model\n",
    "        dec_input = tf.expand_dims([predicted_id], 0)\n",
    "\n",
    "    return result, sentence, attention_plot"
   ]
  },
  {
   "cell_type": "code",
   "execution_count": 24,
   "metadata": {
    "execution": {
     "iopub.execute_input": "2021-11-14T09:52:19.170546Z",
     "iopub.status.busy": "2021-11-14T09:52:19.169420Z",
     "iopub.status.idle": "2021-11-14T09:52:19.184346Z",
     "shell.execute_reply": "2021-11-14T09:52:19.183379Z",
     "shell.execute_reply.started": "2021-11-14T09:52:19.170469Z"
    }
   },
   "outputs": [],
   "source": [
    "def translate(sentence, encoder, decoder, inp_lang, targ_lang, max_length_inp, max_length_targ):\n",
    "    print('Input: {}'.format(sentence))\n",
    "    result, sentence, attention_plot = evaluate(sentence, encoder, decoder, inp_lang, targ_lang, max_length_inp, max_length_targ)\n",
    "        \n",
    "    #print('Input: {}'.format(sentence))\n",
    "    result = result.split(\"<start>\")[-1].split(\"<end>\")[0]\n",
    "    print('Predicted translation: {}'.format(result))\n",
    "    \n",
    "    attention_plot = attention_plot[:len(result.split(' '))-1, :len(sentence.split(' '))-1]\n",
    "    #plot_attention(attention_plot, sentence.split(' '), result.split(' '))\n",
    "    return result"
   ]
  },
  {
   "cell_type": "code",
   "execution_count": 25,
   "metadata": {
    "execution": {
     "iopub.execute_input": "2021-11-14T09:52:19.187348Z",
     "iopub.status.busy": "2021-11-14T09:52:19.186723Z",
     "iopub.status.idle": "2021-11-14T09:52:19.398382Z",
     "shell.execute_reply": "2021-11-14T09:52:19.397375Z",
     "shell.execute_reply.started": "2021-11-14T09:52:19.187304Z"
    }
   },
   "outputs": [],
   "source": [
    "checkpoint.restore(tf.train.latest_checkpoint(checkpoint_dir))"
   ]
  },
  {
   "cell_type": "code",
   "execution_count": 26,
   "metadata": {
    "execution": {
     "iopub.execute_input": "2021-11-14T09:52:19.400472Z",
     "iopub.status.busy": "2021-11-14T09:52:19.400170Z",
     "iopub.status.idle": "2021-11-14T09:52:19.410124Z",
     "shell.execute_reply": "2021-11-14T09:52:19.407477Z",
     "shell.execute_reply.started": "2021-11-14T09:52:19.400429Z"
    }
   },
   "outputs": [],
   "source": [
    "import matplotlib.pyplot as plt\n",
    "\n",
    "# function for plotting the attention weights\n",
    "def plot_attention(attention, sentence, predicted_sentence):\n",
    "    fig = plt.figure(figsize=(10,10))\n",
    "    ax = fig.add_subplot(1, 1, 1)\n",
    "    ax.matshow(attention, cmap='viridis')\n",
    "    \n",
    "    fontdict = {'fontsize': 14}\n",
    "    \n",
    "    ax.set_xticklabels([''] + sentence, fontdict=fontdict, rotation=90)\n",
    "    ax.set_yticklabels([''] + predicted_sentence, fontdict=fontdict)\n",
    "\n",
    "    plt.show()"
   ]
  },
  {
   "cell_type": "code",
   "execution_count": 27,
   "metadata": {
    "execution": {
     "iopub.execute_input": "2021-11-14T09:52:19.412416Z",
     "iopub.status.busy": "2021-11-14T09:52:19.412072Z",
     "iopub.status.idle": "2021-11-14T09:52:19.543762Z",
     "shell.execute_reply": "2021-11-14T09:52:19.542777Z",
     "shell.execute_reply.started": "2021-11-14T09:52:19.412372Z"
    }
   },
   "outputs": [],
   "source": [
    "translate('you are not smart', encoder, decoder, inp_lang, targ_lang, max_length_inp, max_length_targ)"
   ]
  },
  {
   "cell_type": "code",
   "execution_count": 30,
   "metadata": {
    "execution": {
     "iopub.execute_input": "2021-11-14T09:53:33.190837Z",
     "iopub.status.busy": "2021-11-14T09:53:33.190438Z",
     "iopub.status.idle": "2021-11-14T09:53:33.243596Z",
     "shell.execute_reply": "2021-11-14T09:53:33.242664Z",
     "shell.execute_reply.started": "2021-11-14T09:53:33.190805Z"
    }
   },
   "outputs": [],
   "source": [
    "import pandas as pd\n",
    "df = pd.read_csv('/kaggle/input/practice2/TrainData.txt',sep='\\t')\n",
    "df = df.loc[:,::-1]\n",
    "df.head()"
   ]
  },
  {
   "cell_type": "code",
   "execution_count": 31,
   "metadata": {
    "execution": {
     "iopub.execute_input": "2021-11-14T09:53:38.370544Z",
     "iopub.status.busy": "2021-11-14T09:53:38.369828Z",
     "iopub.status.idle": "2021-11-14T09:53:38.480564Z",
     "shell.execute_reply": "2021-11-14T09:53:38.479627Z",
     "shell.execute_reply.started": "2021-11-14T09:53:38.370494Z"
    }
   },
   "outputs": [],
   "source": [
    "translate(df.Question[0], encoder, decoder, inp_lang, targ_lang, max_length_inp, max_length_targ)"
   ]
  },
  {
   "cell_type": "code",
   "execution_count": 32,
   "metadata": {
    "execution": {
     "iopub.execute_input": "2021-11-14T09:53:47.149785Z",
     "iopub.status.busy": "2021-11-14T09:53:47.149459Z",
     "iopub.status.idle": "2021-11-14T09:53:47.166217Z",
     "shell.execute_reply": "2021-11-14T09:53:47.165292Z",
     "shell.execute_reply.started": "2021-11-14T09:53:47.149753Z"
    }
   },
   "outputs": [],
   "source": [
    "from fuzzywuzzy import fuzz\n",
    "import fuzzywuzzy.process"
   ]
  },
  {
   "cell_type": "code",
   "execution_count": 33,
   "metadata": {
    "execution": {
     "iopub.execute_input": "2021-11-14T09:53:50.830119Z",
     "iopub.status.busy": "2021-11-14T09:53:50.829783Z",
     "iopub.status.idle": "2021-11-14T09:57:45.617198Z",
     "shell.execute_reply": "2021-11-14T09:57:45.615361Z",
     "shell.execute_reply.started": "2021-11-14T09:53:50.830074Z"
    }
   },
   "outputs": [],
   "source": [
    "sum=0\n",
    "for i in range(0,2000):\n",
    "    pred_answer=translate(df['Question'][i], encoder, decoder, inp_lang, targ_lang, max_length_inp, max_length_targ)\n",
    "    #pred_answer=pred_answer.split(\"<start>\")[-1].split(\"<end>\")[0]\n",
    "    a=fuzz.partial_ratio(df['Answer'][i],pred_answer)\n",
    "    sum=sum+a\n",
    "print(sum/2000)"
   ]
  },
  {
   "cell_type": "code",
   "execution_count": 34,
   "metadata": {
    "execution": {
     "iopub.execute_input": "2021-11-14T09:58:26.771291Z",
     "iopub.status.busy": "2021-11-14T09:58:26.770976Z",
     "iopub.status.idle": "2021-11-14T09:58:26.798786Z",
     "shell.execute_reply": "2021-11-14T09:58:26.797616Z",
     "shell.execute_reply.started": "2021-11-14T09:58:26.771258Z"
    }
   },
   "outputs": [],
   "source": [
    "df2 = pd.read_csv('/kaggle/input/practice/TestData.csv')\n",
    "df2.head()"
   ]
  },
  {
   "cell_type": "code",
   "execution_count": 35,
   "metadata": {
    "execution": {
     "iopub.execute_input": "2021-11-14T09:58:30.990440Z",
     "iopub.status.busy": "2021-11-14T09:58:30.989908Z",
     "iopub.status.idle": "2021-11-14T09:59:38.579316Z",
     "shell.execute_reply": "2021-11-14T09:59:38.577745Z",
     "shell.execute_reply.started": "2021-11-14T09:58:30.990405Z"
    }
   },
   "outputs": [],
   "source": [
    "pred_answers=[]\n",
    "for i in range(0,len(df2)):\n",
    "    pred_answers.append(translate(df2.Question[i], encoder, decoder, inp_lang, targ_lang, max_length_inp, max_length_targ))"
   ]
  },
  {
   "cell_type": "code",
   "execution_count": 37,
   "metadata": {
    "execution": {
     "iopub.execute_input": "2021-11-14T09:59:48.950297Z",
     "iopub.status.busy": "2021-11-14T09:59:48.949309Z",
     "iopub.status.idle": "2021-11-14T09:59:48.997050Z",
     "shell.execute_reply": "2021-11-14T09:59:48.995341Z",
     "shell.execute_reply.started": "2021-11-14T09:59:48.950248Z"
    }
   },
   "outputs": [],
   "source": [
    "df2['Answer'] = pred_answers\n",
    "df2.drop('Question', axis=1, inplace=True)"
   ]
  },
  {
   "cell_type": "code",
   "execution_count": 38,
   "metadata": {
    "execution": {
     "iopub.execute_input": "2021-11-14T09:59:53.339561Z",
     "iopub.status.busy": "2021-11-14T09:59:53.339277Z",
     "iopub.status.idle": "2021-11-14T09:59:53.352357Z",
     "shell.execute_reply": "2021-11-14T09:59:53.351148Z",
     "shell.execute_reply.started": "2021-11-14T09:59:53.339529Z"
    }
   },
   "outputs": [],
   "source": [
    "df2.to_csv('John 5.csv')"
   ]
  }
 ],
 "metadata": {
  "kernelspec": {
   "display_name": "Python 3",
   "language": "python",
   "name": "python3"
  },
  "language_info": {
   "codemirror_mode": {
    "name": "ipython",
    "version": 3
   },
   "file_extension": ".py",
   "mimetype": "text/x-python",
   "name": "python",
   "nbconvert_exporter": "python",
   "pygments_lexer": "ipython3",
   "version": "3.8.10"
  }
 },
 "nbformat": 4,
 "nbformat_minor": 4
}
